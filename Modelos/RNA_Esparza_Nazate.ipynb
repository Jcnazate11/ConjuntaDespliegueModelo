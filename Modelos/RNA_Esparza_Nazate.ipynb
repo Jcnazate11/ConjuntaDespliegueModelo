{
 "cells": [
  {
   "cell_type": "code",
   "execution_count": 1,
   "id": "caaaf41b-4c84-48ff-8129-2fbbbdbf9432",
   "metadata": {},
   "outputs": [],
   "source": [
    "import pandas as pd #manejo de archivos y analisis de datos\n",
    "import numpy as np# dividir los datos yvectore matrices\n",
    "import matplotlib.pyplot as plt # generar graficos histograficos \n",
    "import seaborn as sns\n",
    "\n",
    "# operaciones de los modelos supervisados, modelar, entrenar\n",
    "from sklearn.model_selection import train_test_split\n",
    "from sklearn.metrics import confusion_matrix, ConfusionMatrixDisplay\n",
    "\n",
    "from keras.models import Sequential\n",
    "from keras.layers import Dense\n",
    "import pickle\n"
   ]
  },
  {
   "cell_type": "code",
   "execution_count": 2,
   "id": "cd955c28-aaca-4049-8eca-590dab1ae7fc",
   "metadata": {},
   "outputs": [
    {
     "data": {
      "text/html": [
       "<div>\n",
       "<style scoped>\n",
       "    .dataframe tbody tr th:only-of-type {\n",
       "        vertical-align: middle;\n",
       "    }\n",
       "\n",
       "    .dataframe tbody tr th {\n",
       "        vertical-align: top;\n",
       "    }\n",
       "\n",
       "    .dataframe thead th {\n",
       "        text-align: right;\n",
       "    }\n",
       "</style>\n",
       "<table border=\"1\" class=\"dataframe\">\n",
       "  <thead>\n",
       "    <tr style=\"text-align: right;\">\n",
       "      <th></th>\n",
       "      <th>Unnamed: 0</th>\n",
       "      <th>edad</th>\n",
       "      <th>fnlwgt</th>\n",
       "      <th>educacionNum</th>\n",
       "      <th>estadoCivil</th>\n",
       "      <th>relacion</th>\n",
       "      <th>ocupacion</th>\n",
       "      <th>raza</th>\n",
       "      <th>genero</th>\n",
       "      <th>gananciaCapital</th>\n",
       "      <th>perdidaCapital</th>\n",
       "      <th>horasSemana</th>\n",
       "      <th>pais</th>\n",
       "      <th>tipoEmpleo</th>\n",
       "      <th>salario</th>\n",
       "    </tr>\n",
       "  </thead>\n",
       "  <tbody>\n",
       "    <tr>\n",
       "      <th>0</th>\n",
       "      <td>0</td>\n",
       "      <td>39</td>\n",
       "      <td>77516</td>\n",
       "      <td>13</td>\n",
       "      <td>1</td>\n",
       "      <td>1</td>\n",
       "      <td>0</td>\n",
       "      <td>4</td>\n",
       "      <td>1</td>\n",
       "      <td>1</td>\n",
       "      <td>0</td>\n",
       "      <td>40</td>\n",
       "      <td>1</td>\n",
       "      <td>0</td>\n",
       "      <td>1</td>\n",
       "    </tr>\n",
       "    <tr>\n",
       "      <th>1</th>\n",
       "      <td>1</td>\n",
       "      <td>50</td>\n",
       "      <td>83311</td>\n",
       "      <td>13</td>\n",
       "      <td>0</td>\n",
       "      <td>0</td>\n",
       "      <td>3</td>\n",
       "      <td>4</td>\n",
       "      <td>1</td>\n",
       "      <td>0</td>\n",
       "      <td>0</td>\n",
       "      <td>13</td>\n",
       "      <td>1</td>\n",
       "      <td>2</td>\n",
       "      <td>1</td>\n",
       "    </tr>\n",
       "    <tr>\n",
       "      <th>2</th>\n",
       "      <td>2</td>\n",
       "      <td>38</td>\n",
       "      <td>215646</td>\n",
       "      <td>9</td>\n",
       "      <td>1</td>\n",
       "      <td>1</td>\n",
       "      <td>5</td>\n",
       "      <td>4</td>\n",
       "      <td>1</td>\n",
       "      <td>0</td>\n",
       "      <td>0</td>\n",
       "      <td>40</td>\n",
       "      <td>1</td>\n",
       "      <td>1</td>\n",
       "      <td>1</td>\n",
       "    </tr>\n",
       "    <tr>\n",
       "      <th>3</th>\n",
       "      <td>3</td>\n",
       "      <td>53</td>\n",
       "      <td>234721</td>\n",
       "      <td>7</td>\n",
       "      <td>0</td>\n",
       "      <td>0</td>\n",
       "      <td>5</td>\n",
       "      <td>2</td>\n",
       "      <td>1</td>\n",
       "      <td>0</td>\n",
       "      <td>0</td>\n",
       "      <td>40</td>\n",
       "      <td>1</td>\n",
       "      <td>1</td>\n",
       "      <td>1</td>\n",
       "    </tr>\n",
       "    <tr>\n",
       "      <th>4</th>\n",
       "      <td>4</td>\n",
       "      <td>28</td>\n",
       "      <td>338409</td>\n",
       "      <td>13</td>\n",
       "      <td>0</td>\n",
       "      <td>5</td>\n",
       "      <td>9</td>\n",
       "      <td>2</td>\n",
       "      <td>0</td>\n",
       "      <td>0</td>\n",
       "      <td>0</td>\n",
       "      <td>40</td>\n",
       "      <td>0</td>\n",
       "      <td>1</td>\n",
       "      <td>1</td>\n",
       "    </tr>\n",
       "  </tbody>\n",
       "</table>\n",
       "</div>"
      ],
      "text/plain": [
       "   Unnamed: 0  edad  fnlwgt  educacionNum  estadoCivil  relacion  ocupacion  \\\n",
       "0           0    39   77516            13            1         1          0   \n",
       "1           1    50   83311            13            0         0          3   \n",
       "2           2    38  215646             9            1         1          5   \n",
       "3           3    53  234721             7            0         0          5   \n",
       "4           4    28  338409            13            0         5          9   \n",
       "\n",
       "   raza  genero  gananciaCapital  perdidaCapital  horasSemana  pais  \\\n",
       "0     4       1                1               0           40     1   \n",
       "1     4       1                0               0           13     1   \n",
       "2     4       1                0               0           40     1   \n",
       "3     2       1                0               0           40     1   \n",
       "4     2       0                0               0           40     0   \n",
       "\n",
       "   tipoEmpleo  salario  \n",
       "0           0        1  \n",
       "1           2        1  \n",
       "2           1        1  \n",
       "3           1        1  \n",
       "4           1        1  "
      ]
     },
     "execution_count": 2,
     "metadata": {},
     "output_type": "execute_result"
    }
   ],
   "source": [
    "data= pd.read_csv('new_data_evaluacion.csv')\n",
    "data.head()"
   ]
  },
  {
   "cell_type": "code",
   "execution_count": 3,
   "id": "84514f77-e47e-451b-a91d-784842da2a0f",
   "metadata": {},
   "outputs": [
    {
     "data": {
      "text/html": [
       "<div>\n",
       "<style scoped>\n",
       "    .dataframe tbody tr th:only-of-type {\n",
       "        vertical-align: middle;\n",
       "    }\n",
       "\n",
       "    .dataframe tbody tr th {\n",
       "        vertical-align: top;\n",
       "    }\n",
       "\n",
       "    .dataframe thead th {\n",
       "        text-align: right;\n",
       "    }\n",
       "</style>\n",
       "<table border=\"1\" class=\"dataframe\">\n",
       "  <thead>\n",
       "    <tr style=\"text-align: right;\">\n",
       "      <th></th>\n",
       "      <th>Unnamed: 0</th>\n",
       "      <th>edad</th>\n",
       "      <th>fnlwgt</th>\n",
       "      <th>educacionNum</th>\n",
       "      <th>estadoCivil</th>\n",
       "      <th>relacion</th>\n",
       "      <th>ocupacion</th>\n",
       "      <th>raza</th>\n",
       "      <th>genero</th>\n",
       "      <th>gananciaCapital</th>\n",
       "      <th>perdidaCapital</th>\n",
       "      <th>horasSemana</th>\n",
       "      <th>pais</th>\n",
       "      <th>tipoEmpleo</th>\n",
       "      <th>salario</th>\n",
       "    </tr>\n",
       "  </thead>\n",
       "  <tbody>\n",
       "    <tr>\n",
       "      <th>count</th>\n",
       "      <td>48842.000000</td>\n",
       "      <td>48842.000000</td>\n",
       "      <td>4.884200e+04</td>\n",
       "      <td>48842.000000</td>\n",
       "      <td>48842.000000</td>\n",
       "      <td>48842.000000</td>\n",
       "      <td>48842.000000</td>\n",
       "      <td>48842.000000</td>\n",
       "      <td>48842.000000</td>\n",
       "      <td>48842.000000</td>\n",
       "      <td>48842.000000</td>\n",
       "      <td>48842.000000</td>\n",
       "      <td>48842.000000</td>\n",
       "      <td>48842.000000</td>\n",
       "      <td>48842.000000</td>\n",
       "    </tr>\n",
       "    <tr>\n",
       "      <th>mean</th>\n",
       "      <td>24420.500000</td>\n",
       "      <td>38.643585</td>\n",
       "      <td>1.896641e+05</td>\n",
       "      <td>10.078089</td>\n",
       "      <td>0.541051</td>\n",
       "      <td>1.443287</td>\n",
       "      <td>6.152819</td>\n",
       "      <td>3.668052</td>\n",
       "      <td>0.668482</td>\n",
       "      <td>0.082613</td>\n",
       "      <td>0.046722</td>\n",
       "      <td>40.422382</td>\n",
       "      <td>0.914971</td>\n",
       "      <td>0.980959</td>\n",
       "      <td>0.760718</td>\n",
       "    </tr>\n",
       "    <tr>\n",
       "      <th>std</th>\n",
       "      <td>14099.615261</td>\n",
       "      <td>13.710510</td>\n",
       "      <td>1.056040e+05</td>\n",
       "      <td>2.570973</td>\n",
       "      <td>0.498317</td>\n",
       "      <td>1.602151</td>\n",
       "      <td>3.968837</td>\n",
       "      <td>0.845986</td>\n",
       "      <td>0.470764</td>\n",
       "      <td>0.275300</td>\n",
       "      <td>0.211045</td>\n",
       "      <td>12.391444</td>\n",
       "      <td>0.278928</td>\n",
       "      <td>0.500042</td>\n",
       "      <td>0.426649</td>\n",
       "    </tr>\n",
       "    <tr>\n",
       "      <th>min</th>\n",
       "      <td>0.000000</td>\n",
       "      <td>17.000000</td>\n",
       "      <td>1.228500e+04</td>\n",
       "      <td>1.000000</td>\n",
       "      <td>0.000000</td>\n",
       "      <td>0.000000</td>\n",
       "      <td>0.000000</td>\n",
       "      <td>0.000000</td>\n",
       "      <td>0.000000</td>\n",
       "      <td>0.000000</td>\n",
       "      <td>0.000000</td>\n",
       "      <td>1.000000</td>\n",
       "      <td>0.000000</td>\n",
       "      <td>0.000000</td>\n",
       "      <td>0.000000</td>\n",
       "    </tr>\n",
       "    <tr>\n",
       "      <th>25%</th>\n",
       "      <td>12210.250000</td>\n",
       "      <td>28.000000</td>\n",
       "      <td>1.175505e+05</td>\n",
       "      <td>9.000000</td>\n",
       "      <td>0.000000</td>\n",
       "      <td>0.000000</td>\n",
       "      <td>3.000000</td>\n",
       "      <td>4.000000</td>\n",
       "      <td>0.000000</td>\n",
       "      <td>0.000000</td>\n",
       "      <td>0.000000</td>\n",
       "      <td>40.000000</td>\n",
       "      <td>1.000000</td>\n",
       "      <td>1.000000</td>\n",
       "      <td>1.000000</td>\n",
       "    </tr>\n",
       "    <tr>\n",
       "      <th>50%</th>\n",
       "      <td>24420.500000</td>\n",
       "      <td>37.000000</td>\n",
       "      <td>1.781445e+05</td>\n",
       "      <td>10.000000</td>\n",
       "      <td>1.000000</td>\n",
       "      <td>1.000000</td>\n",
       "      <td>7.000000</td>\n",
       "      <td>4.000000</td>\n",
       "      <td>1.000000</td>\n",
       "      <td>0.000000</td>\n",
       "      <td>0.000000</td>\n",
       "      <td>40.000000</td>\n",
       "      <td>1.000000</td>\n",
       "      <td>1.000000</td>\n",
       "      <td>1.000000</td>\n",
       "    </tr>\n",
       "    <tr>\n",
       "      <th>75%</th>\n",
       "      <td>36630.750000</td>\n",
       "      <td>48.000000</td>\n",
       "      <td>2.376420e+05</td>\n",
       "      <td>12.000000</td>\n",
       "      <td>1.000000</td>\n",
       "      <td>3.000000</td>\n",
       "      <td>9.000000</td>\n",
       "      <td>4.000000</td>\n",
       "      <td>1.000000</td>\n",
       "      <td>0.000000</td>\n",
       "      <td>0.000000</td>\n",
       "      <td>45.000000</td>\n",
       "      <td>1.000000</td>\n",
       "      <td>1.000000</td>\n",
       "      <td>1.000000</td>\n",
       "    </tr>\n",
       "    <tr>\n",
       "      <th>max</th>\n",
       "      <td>48841.000000</td>\n",
       "      <td>90.000000</td>\n",
       "      <td>1.490400e+06</td>\n",
       "      <td>16.000000</td>\n",
       "      <td>1.000000</td>\n",
       "      <td>5.000000</td>\n",
       "      <td>13.000000</td>\n",
       "      <td>4.000000</td>\n",
       "      <td>1.000000</td>\n",
       "      <td>1.000000</td>\n",
       "      <td>1.000000</td>\n",
       "      <td>99.000000</td>\n",
       "      <td>1.000000</td>\n",
       "      <td>3.000000</td>\n",
       "      <td>1.000000</td>\n",
       "    </tr>\n",
       "  </tbody>\n",
       "</table>\n",
       "</div>"
      ],
      "text/plain": [
       "         Unnamed: 0          edad        fnlwgt  educacionNum   estadoCivil  \\\n",
       "count  48842.000000  48842.000000  4.884200e+04  48842.000000  48842.000000   \n",
       "mean   24420.500000     38.643585  1.896641e+05     10.078089      0.541051   \n",
       "std    14099.615261     13.710510  1.056040e+05      2.570973      0.498317   \n",
       "min        0.000000     17.000000  1.228500e+04      1.000000      0.000000   \n",
       "25%    12210.250000     28.000000  1.175505e+05      9.000000      0.000000   \n",
       "50%    24420.500000     37.000000  1.781445e+05     10.000000      1.000000   \n",
       "75%    36630.750000     48.000000  2.376420e+05     12.000000      1.000000   \n",
       "max    48841.000000     90.000000  1.490400e+06     16.000000      1.000000   \n",
       "\n",
       "           relacion     ocupacion          raza        genero  \\\n",
       "count  48842.000000  48842.000000  48842.000000  48842.000000   \n",
       "mean       1.443287      6.152819      3.668052      0.668482   \n",
       "std        1.602151      3.968837      0.845986      0.470764   \n",
       "min        0.000000      0.000000      0.000000      0.000000   \n",
       "25%        0.000000      3.000000      4.000000      0.000000   \n",
       "50%        1.000000      7.000000      4.000000      1.000000   \n",
       "75%        3.000000      9.000000      4.000000      1.000000   \n",
       "max        5.000000     13.000000      4.000000      1.000000   \n",
       "\n",
       "       gananciaCapital  perdidaCapital   horasSemana          pais  \\\n",
       "count     48842.000000    48842.000000  48842.000000  48842.000000   \n",
       "mean          0.082613        0.046722     40.422382      0.914971   \n",
       "std           0.275300        0.211045     12.391444      0.278928   \n",
       "min           0.000000        0.000000      1.000000      0.000000   \n",
       "25%           0.000000        0.000000     40.000000      1.000000   \n",
       "50%           0.000000        0.000000     40.000000      1.000000   \n",
       "75%           0.000000        0.000000     45.000000      1.000000   \n",
       "max           1.000000        1.000000     99.000000      1.000000   \n",
       "\n",
       "         tipoEmpleo       salario  \n",
       "count  48842.000000  48842.000000  \n",
       "mean       0.980959      0.760718  \n",
       "std        0.500042      0.426649  \n",
       "min        0.000000      0.000000  \n",
       "25%        1.000000      1.000000  \n",
       "50%        1.000000      1.000000  \n",
       "75%        1.000000      1.000000  \n",
       "max        3.000000      1.000000  "
      ]
     },
     "execution_count": 3,
     "metadata": {},
     "output_type": "execute_result"
    }
   ],
   "source": [
    "data.describe()"
   ]
  },
  {
   "cell_type": "code",
   "execution_count": 4,
   "id": "2aa33252-0c03-48f8-9291-05be3a870060",
   "metadata": {},
   "outputs": [
    {
     "name": "stdout",
     "output_type": "stream",
     "text": [
      "Unnamed: 0         0\n",
      "edad               0\n",
      "fnlwgt             0\n",
      "educacionNum       0\n",
      "estadoCivil        0\n",
      "relacion           0\n",
      "ocupacion          0\n",
      "raza               0\n",
      "genero             0\n",
      "gananciaCapital    0\n",
      "perdidaCapital     0\n",
      "horasSemana        0\n",
      "pais               0\n",
      "tipoEmpleo         0\n",
      "salario            0\n",
      "dtype: int64\n"
     ]
    }
   ],
   "source": [
    "print(data.isnull().sum())"
   ]
  },
  {
   "cell_type": "code",
   "execution_count": 5,
   "id": "a28714c8-1333-484c-8b00-5f41ca7141fd",
   "metadata": {},
   "outputs": [],
   "source": [
    "data.drop(\"Unnamed: 0\",axis=1,inplace=True)"
   ]
  },
  {
   "cell_type": "code",
   "execution_count": 6,
   "id": "746bd5e8-7e10-46a7-9512-0583c148aff2",
   "metadata": {},
   "outputs": [
    {
     "data": {
      "text/html": [
       "<div>\n",
       "<style scoped>\n",
       "    .dataframe tbody tr th:only-of-type {\n",
       "        vertical-align: middle;\n",
       "    }\n",
       "\n",
       "    .dataframe tbody tr th {\n",
       "        vertical-align: top;\n",
       "    }\n",
       "\n",
       "    .dataframe thead th {\n",
       "        text-align: right;\n",
       "    }\n",
       "</style>\n",
       "<table border=\"1\" class=\"dataframe\">\n",
       "  <thead>\n",
       "    <tr style=\"text-align: right;\">\n",
       "      <th></th>\n",
       "      <th>edad</th>\n",
       "      <th>fnlwgt</th>\n",
       "      <th>educacionNum</th>\n",
       "      <th>estadoCivil</th>\n",
       "      <th>relacion</th>\n",
       "      <th>ocupacion</th>\n",
       "      <th>raza</th>\n",
       "      <th>genero</th>\n",
       "      <th>gananciaCapital</th>\n",
       "      <th>perdidaCapital</th>\n",
       "      <th>horasSemana</th>\n",
       "      <th>pais</th>\n",
       "      <th>tipoEmpleo</th>\n",
       "      <th>salario</th>\n",
       "    </tr>\n",
       "  </thead>\n",
       "  <tbody>\n",
       "    <tr>\n",
       "      <th>0</th>\n",
       "      <td>39</td>\n",
       "      <td>77516</td>\n",
       "      <td>13</td>\n",
       "      <td>1</td>\n",
       "      <td>1</td>\n",
       "      <td>0</td>\n",
       "      <td>4</td>\n",
       "      <td>1</td>\n",
       "      <td>1</td>\n",
       "      <td>0</td>\n",
       "      <td>40</td>\n",
       "      <td>1</td>\n",
       "      <td>0</td>\n",
       "      <td>1</td>\n",
       "    </tr>\n",
       "    <tr>\n",
       "      <th>1</th>\n",
       "      <td>50</td>\n",
       "      <td>83311</td>\n",
       "      <td>13</td>\n",
       "      <td>0</td>\n",
       "      <td>0</td>\n",
       "      <td>3</td>\n",
       "      <td>4</td>\n",
       "      <td>1</td>\n",
       "      <td>0</td>\n",
       "      <td>0</td>\n",
       "      <td>13</td>\n",
       "      <td>1</td>\n",
       "      <td>2</td>\n",
       "      <td>1</td>\n",
       "    </tr>\n",
       "    <tr>\n",
       "      <th>2</th>\n",
       "      <td>38</td>\n",
       "      <td>215646</td>\n",
       "      <td>9</td>\n",
       "      <td>1</td>\n",
       "      <td>1</td>\n",
       "      <td>5</td>\n",
       "      <td>4</td>\n",
       "      <td>1</td>\n",
       "      <td>0</td>\n",
       "      <td>0</td>\n",
       "      <td>40</td>\n",
       "      <td>1</td>\n",
       "      <td>1</td>\n",
       "      <td>1</td>\n",
       "    </tr>\n",
       "    <tr>\n",
       "      <th>3</th>\n",
       "      <td>53</td>\n",
       "      <td>234721</td>\n",
       "      <td>7</td>\n",
       "      <td>0</td>\n",
       "      <td>0</td>\n",
       "      <td>5</td>\n",
       "      <td>2</td>\n",
       "      <td>1</td>\n",
       "      <td>0</td>\n",
       "      <td>0</td>\n",
       "      <td>40</td>\n",
       "      <td>1</td>\n",
       "      <td>1</td>\n",
       "      <td>1</td>\n",
       "    </tr>\n",
       "    <tr>\n",
       "      <th>4</th>\n",
       "      <td>28</td>\n",
       "      <td>338409</td>\n",
       "      <td>13</td>\n",
       "      <td>0</td>\n",
       "      <td>5</td>\n",
       "      <td>9</td>\n",
       "      <td>2</td>\n",
       "      <td>0</td>\n",
       "      <td>0</td>\n",
       "      <td>0</td>\n",
       "      <td>40</td>\n",
       "      <td>0</td>\n",
       "      <td>1</td>\n",
       "      <td>1</td>\n",
       "    </tr>\n",
       "  </tbody>\n",
       "</table>\n",
       "</div>"
      ],
      "text/plain": [
       "   edad  fnlwgt  educacionNum  estadoCivil  relacion  ocupacion  raza  genero  \\\n",
       "0    39   77516            13            1         1          0     4       1   \n",
       "1    50   83311            13            0         0          3     4       1   \n",
       "2    38  215646             9            1         1          5     4       1   \n",
       "3    53  234721             7            0         0          5     2       1   \n",
       "4    28  338409            13            0         5          9     2       0   \n",
       "\n",
       "   gananciaCapital  perdidaCapital  horasSemana  pais  tipoEmpleo  salario  \n",
       "0                1               0           40     1           0        1  \n",
       "1                0               0           13     1           2        1  \n",
       "2                0               0           40     1           1        1  \n",
       "3                0               0           40     1           1        1  \n",
       "4                0               0           40     0           1        1  "
      ]
     },
     "execution_count": 6,
     "metadata": {},
     "output_type": "execute_result"
    }
   ],
   "source": [
    "data.head()"
   ]
  },
  {
   "cell_type": "code",
   "execution_count": 7,
   "id": "5b5e8d24-6fb6-49a2-9a6e-284ed32b3c17",
   "metadata": {},
   "outputs": [],
   "source": [
    "X = data.drop(['salario'], axis=1)\n",
    "y = data['salario']"
   ]
  },
  {
   "cell_type": "code",
   "execution_count": 8,
   "id": "05fcf377-f104-4f25-9101-b5b964b6f1de",
   "metadata": {},
   "outputs": [],
   "source": [
    "X_train, X_test, y_train, y_test = train_test_split(X, y, test_size=0.3, random_state=42)\n"
   ]
  },
  {
   "cell_type": "code",
   "execution_count": 9,
   "id": "ef885d06-f5c8-41f6-8741-0a9081990b7e",
   "metadata": {},
   "outputs": [],
   "source": [
    "from sklearn.preprocessing import MinMaxScaler\n",
    "# Crear el escalador y ajustarlo solo con el conjunto de entrenamiento\n",
    "scaler = MinMaxScaler()\n",
    "X_train = scaler.fit_transform(X_train)\n",
    "X_test = scaler.transform(X_test)"
   ]
  },
  {
   "cell_type": "code",
   "execution_count": 10,
   "id": "81ca04c8-7dd0-4382-b092-578ea867c9e2",
   "metadata": {},
   "outputs": [
    {
     "name": "stderr",
     "output_type": "stream",
     "text": [
      "C:\\Users\\Jcnaz\\anaconda3\\Lib\\site-packages\\keras\\src\\layers\\core\\dense.py:87: UserWarning: Do not pass an `input_shape`/`input_dim` argument to a layer. When using Sequential models, prefer using an `Input(shape)` object as the first layer in the model instead.\n",
      "  super().__init__(activity_regularizer=activity_regularizer, **kwargs)\n"
     ]
    }
   ],
   "source": [
    "modelo = Sequential()\n",
    "modelo.add(Dense(32,input_dim=X_train.shape[1], activation='relu'))\n",
    "modelo.add(Dense(16,activation='relu'))\n",
    "#Salida\n",
    "modelo.add(Dense(1,activation='sigmoid'))"
   ]
  },
  {
   "cell_type": "code",
   "execution_count": 11,
   "id": "052535ff-6894-4738-be02-1357c22ad9b4",
   "metadata": {},
   "outputs": [],
   "source": [
    "modelo.compile(\n",
    "    loss=\"binary_crossentropy\",  \n",
    "    optimizer = \"adam\",\n",
    "    metrics = [\"accuracy\"]\n",
    ")"
   ]
  },
  {
   "cell_type": "code",
   "execution_count": 12,
   "id": "da0b48cd-5c6b-4f96-bb55-04e349acf01a",
   "metadata": {},
   "outputs": [
    {
     "name": "stdout",
     "output_type": "stream",
     "text": [
      "Epoch 1/100\n",
      "\u001b[1m3419/3419\u001b[0m \u001b[32m━━━━━━━━━━━━━━━━━━━━\u001b[0m\u001b[37m\u001b[0m \u001b[1m22s\u001b[0m 6ms/step - accuracy: 0.8052 - loss: 0.4086\n",
      "Epoch 2/100\n",
      "\u001b[1m3419/3419\u001b[0m \u001b[32m━━━━━━━━━━━━━━━━━━━━\u001b[0m\u001b[37m\u001b[0m \u001b[1m63s\u001b[0m 18ms/step - accuracy: 0.8380 - loss: 0.3430\n",
      "Epoch 3/100\n",
      "\u001b[1m3419/3419\u001b[0m \u001b[32m━━━━━━━━━━━━━━━━━━━━\u001b[0m\u001b[37m\u001b[0m \u001b[1m14s\u001b[0m 4ms/step - accuracy: 0.8376 - loss: 0.3404\n",
      "Epoch 4/100\n",
      "\u001b[1m3419/3419\u001b[0m \u001b[32m━━━━━━━━━━━━━━━━━━━━\u001b[0m\u001b[37m\u001b[0m \u001b[1m56s\u001b[0m 14ms/step - accuracy: 0.8416 - loss: 0.3361\n",
      "Epoch 5/100\n",
      "\u001b[1m3419/3419\u001b[0m \u001b[32m━━━━━━━━━━━━━━━━━━━━\u001b[0m\u001b[37m\u001b[0m \u001b[1m31s\u001b[0m 9ms/step - accuracy: 0.8377 - loss: 0.3402\n",
      "Epoch 6/100\n",
      "\u001b[1m3419/3419\u001b[0m \u001b[32m━━━━━━━━━━━━━━━━━━━━\u001b[0m\u001b[37m\u001b[0m \u001b[1m43s\u001b[0m 12ms/step - accuracy: 0.8398 - loss: 0.3358\n",
      "Epoch 7/100\n",
      "\u001b[1m3419/3419\u001b[0m \u001b[32m━━━━━━━━━━━━━━━━━━━━\u001b[0m\u001b[37m\u001b[0m \u001b[1m35s\u001b[0m 10ms/step - accuracy: 0.8393 - loss: 0.3356\n",
      "Epoch 8/100\n",
      "\u001b[1m3419/3419\u001b[0m \u001b[32m━━━━━━━━━━━━━━━━━━━━\u001b[0m\u001b[37m\u001b[0m \u001b[1m36s\u001b[0m 10ms/step - accuracy: 0.8402 - loss: 0.3348\n",
      "Epoch 9/100\n",
      "\u001b[1m3419/3419\u001b[0m \u001b[32m━━━━━━━━━━━━━━━━━━━━\u001b[0m\u001b[37m\u001b[0m \u001b[1m21s\u001b[0m 6ms/step - accuracy: 0.8391 - loss: 0.3339\n",
      "Epoch 10/100\n",
      "\u001b[1m3419/3419\u001b[0m \u001b[32m━━━━━━━━━━━━━━━━━━━━\u001b[0m\u001b[37m\u001b[0m \u001b[1m36s\u001b[0m 4ms/step - accuracy: 0.8411 - loss: 0.3320\n",
      "Epoch 11/100\n",
      "\u001b[1m3419/3419\u001b[0m \u001b[32m━━━━━━━━━━━━━━━━━━━━\u001b[0m\u001b[37m\u001b[0m \u001b[1m13s\u001b[0m 4ms/step - accuracy: 0.8430 - loss: 0.3353\n",
      "Epoch 12/100\n",
      "\u001b[1m3419/3419\u001b[0m \u001b[32m━━━━━━━━━━━━━━━━━━━━\u001b[0m\u001b[37m\u001b[0m \u001b[1m14s\u001b[0m 4ms/step - accuracy: 0.8406 - loss: 0.3340\n",
      "Epoch 13/100\n",
      "\u001b[1m3419/3419\u001b[0m \u001b[32m━━━━━━━━━━━━━━━━━━━━\u001b[0m\u001b[37m\u001b[0m \u001b[1m13s\u001b[0m 4ms/step - accuracy: 0.8445 - loss: 0.3265\n",
      "Epoch 14/100\n",
      "\u001b[1m3419/3419\u001b[0m \u001b[32m━━━━━━━━━━━━━━━━━━━━\u001b[0m\u001b[37m\u001b[0m \u001b[1m22s\u001b[0m 4ms/step - accuracy: 0.8433 - loss: 0.3290\n",
      "Epoch 15/100\n",
      "\u001b[1m3419/3419\u001b[0m \u001b[32m━━━━━━━━━━━━━━━━━━━━\u001b[0m\u001b[37m\u001b[0m \u001b[1m12s\u001b[0m 3ms/step - accuracy: 0.8437 - loss: 0.3293\n",
      "Epoch 16/100\n",
      "\u001b[1m3419/3419\u001b[0m \u001b[32m━━━━━━━━━━━━━━━━━━━━\u001b[0m\u001b[37m\u001b[0m \u001b[1m18s\u001b[0m 3ms/step - accuracy: 0.8397 - loss: 0.3346\n",
      "Epoch 17/100\n",
      "\u001b[1m3419/3419\u001b[0m \u001b[32m━━━━━━━━━━━━━━━━━━━━\u001b[0m\u001b[37m\u001b[0m \u001b[1m8s\u001b[0m 2ms/step - accuracy: 0.8441 - loss: 0.3274\n",
      "Epoch 18/100\n",
      "\u001b[1m3419/3419\u001b[0m \u001b[32m━━━━━━━━━━━━━━━━━━━━\u001b[0m\u001b[37m\u001b[0m \u001b[1m6s\u001b[0m 2ms/step - accuracy: 0.8455 - loss: 0.3293\n",
      "Epoch 19/100\n",
      "\u001b[1m3419/3419\u001b[0m \u001b[32m━━━━━━━━━━━━━━━━━━━━\u001b[0m\u001b[37m\u001b[0m \u001b[1m5s\u001b[0m 1ms/step - accuracy: 0.8400 - loss: 0.3335\n",
      "Epoch 20/100\n",
      "\u001b[1m3419/3419\u001b[0m \u001b[32m━━━━━━━━━━━━━━━━━━━━\u001b[0m\u001b[37m\u001b[0m \u001b[1m6s\u001b[0m 2ms/step - accuracy: 0.8428 - loss: 0.3310\n",
      "Epoch 21/100\n",
      "\u001b[1m3419/3419\u001b[0m \u001b[32m━━━━━━━━━━━━━━━━━━━━\u001b[0m\u001b[37m\u001b[0m \u001b[1m6s\u001b[0m 2ms/step - accuracy: 0.8443 - loss: 0.3260\n",
      "Epoch 22/100\n",
      "\u001b[1m3419/3419\u001b[0m \u001b[32m━━━━━━━━━━━━━━━━━━━━\u001b[0m\u001b[37m\u001b[0m \u001b[1m5s\u001b[0m 2ms/step - accuracy: 0.8420 - loss: 0.3316\n",
      "Epoch 23/100\n",
      "\u001b[1m3419/3419\u001b[0m \u001b[32m━━━━━━━━━━━━━━━━━━━━\u001b[0m\u001b[37m\u001b[0m \u001b[1m6s\u001b[0m 2ms/step - accuracy: 0.8426 - loss: 0.3283\n",
      "Epoch 24/100\n",
      "\u001b[1m3419/3419\u001b[0m \u001b[32m━━━━━━━━━━━━━━━━━━━━\u001b[0m\u001b[37m\u001b[0m \u001b[1m6s\u001b[0m 2ms/step - accuracy: 0.8440 - loss: 0.3282\n",
      "Epoch 25/100\n",
      "\u001b[1m3419/3419\u001b[0m \u001b[32m━━━━━━━━━━━━━━━━━━━━\u001b[0m\u001b[37m\u001b[0m \u001b[1m5s\u001b[0m 2ms/step - accuracy: 0.8452 - loss: 0.3234\n",
      "Epoch 26/100\n",
      "\u001b[1m3419/3419\u001b[0m \u001b[32m━━━━━━━━━━━━━━━━━━━━\u001b[0m\u001b[37m\u001b[0m \u001b[1m5s\u001b[0m 1ms/step - accuracy: 0.8461 - loss: 0.3267\n",
      "Epoch 27/100\n",
      "\u001b[1m3419/3419\u001b[0m \u001b[32m━━━━━━━━━━━━━━━━━━━━\u001b[0m\u001b[37m\u001b[0m \u001b[1m5s\u001b[0m 1ms/step - accuracy: 0.8441 - loss: 0.3312\n",
      "Epoch 28/100\n",
      "\u001b[1m3419/3419\u001b[0m \u001b[32m━━━━━━━━━━━━━━━━━━━━\u001b[0m\u001b[37m\u001b[0m \u001b[1m5s\u001b[0m 1ms/step - accuracy: 0.8451 - loss: 0.3284\n",
      "Epoch 29/100\n",
      "\u001b[1m3419/3419\u001b[0m \u001b[32m━━━━━━━━━━━━━━━━━━━━\u001b[0m\u001b[37m\u001b[0m \u001b[1m5s\u001b[0m 1ms/step - accuracy: 0.8429 - loss: 0.3311\n",
      "Epoch 30/100\n",
      "\u001b[1m3419/3419\u001b[0m \u001b[32m━━━━━━━━━━━━━━━━━━━━\u001b[0m\u001b[37m\u001b[0m \u001b[1m5s\u001b[0m 1ms/step - accuracy: 0.8422 - loss: 0.3264\n",
      "Epoch 31/100\n",
      "\u001b[1m3419/3419\u001b[0m \u001b[32m━━━━━━━━━━━━━━━━━━━━\u001b[0m\u001b[37m\u001b[0m \u001b[1m5s\u001b[0m 1ms/step - accuracy: 0.8445 - loss: 0.3275\n",
      "Epoch 32/100\n",
      "\u001b[1m3419/3419\u001b[0m \u001b[32m━━━━━━━━━━━━━━━━━━━━\u001b[0m\u001b[37m\u001b[0m \u001b[1m5s\u001b[0m 1ms/step - accuracy: 0.8441 - loss: 0.3271\n",
      "Epoch 33/100\n",
      "\u001b[1m3419/3419\u001b[0m \u001b[32m━━━━━━━━━━━━━━━━━━━━\u001b[0m\u001b[37m\u001b[0m \u001b[1m5s\u001b[0m 2ms/step - accuracy: 0.8427 - loss: 0.3295\n",
      "Epoch 34/100\n",
      "\u001b[1m3419/3419\u001b[0m \u001b[32m━━━━━━━━━━━━━━━━━━━━\u001b[0m\u001b[37m\u001b[0m \u001b[1m5s\u001b[0m 1ms/step - accuracy: 0.8479 - loss: 0.3227\n",
      "Epoch 35/100\n",
      "\u001b[1m3419/3419\u001b[0m \u001b[32m━━━━━━━━━━━━━━━━━━━━\u001b[0m\u001b[37m\u001b[0m \u001b[1m5s\u001b[0m 1ms/step - accuracy: 0.8448 - loss: 0.3252\n",
      "Epoch 36/100\n",
      "\u001b[1m3419/3419\u001b[0m \u001b[32m━━━━━━━━━━━━━━━━━━━━\u001b[0m\u001b[37m\u001b[0m \u001b[1m5s\u001b[0m 1ms/step - accuracy: 0.8478 - loss: 0.3235\n",
      "Epoch 37/100\n",
      "\u001b[1m3419/3419\u001b[0m \u001b[32m━━━━━━━━━━━━━━━━━━━━\u001b[0m\u001b[37m\u001b[0m \u001b[1m5s\u001b[0m 1ms/step - accuracy: 0.8458 - loss: 0.3213\n",
      "Epoch 38/100\n",
      "\u001b[1m3419/3419\u001b[0m \u001b[32m━━━━━━━━━━━━━━━━━━━━\u001b[0m\u001b[37m\u001b[0m \u001b[1m5s\u001b[0m 1ms/step - accuracy: 0.8473 - loss: 0.3244\n",
      "Epoch 39/100\n",
      "\u001b[1m3419/3419\u001b[0m \u001b[32m━━━━━━━━━━━━━━━━━━━━\u001b[0m\u001b[37m\u001b[0m \u001b[1m5s\u001b[0m 1ms/step - accuracy: 0.8472 - loss: 0.3271\n",
      "Epoch 40/100\n",
      "\u001b[1m3419/3419\u001b[0m \u001b[32m━━━━━━━━━━━━━━━━━━━━\u001b[0m\u001b[37m\u001b[0m \u001b[1m4s\u001b[0m 1ms/step - accuracy: 0.8458 - loss: 0.3267\n",
      "Epoch 41/100\n",
      "\u001b[1m3419/3419\u001b[0m \u001b[32m━━━━━━━━━━━━━━━━━━━━\u001b[0m\u001b[37m\u001b[0m \u001b[1m4s\u001b[0m 1ms/step - accuracy: 0.8434 - loss: 0.3240\n",
      "Epoch 42/100\n",
      "\u001b[1m3419/3419\u001b[0m \u001b[32m━━━━━━━━━━━━━━━━━━━━\u001b[0m\u001b[37m\u001b[0m \u001b[1m5s\u001b[0m 1ms/step - accuracy: 0.8400 - loss: 0.3336\n",
      "Epoch 43/100\n",
      "\u001b[1m3419/3419\u001b[0m \u001b[32m━━━━━━━━━━━━━━━━━━━━\u001b[0m\u001b[37m\u001b[0m \u001b[1m5s\u001b[0m 1ms/step - accuracy: 0.8468 - loss: 0.3264\n",
      "Epoch 44/100\n",
      "\u001b[1m3419/3419\u001b[0m \u001b[32m━━━━━━━━━━━━━━━━━━━━\u001b[0m\u001b[37m\u001b[0m \u001b[1m4s\u001b[0m 1ms/step - accuracy: 0.8471 - loss: 0.3236\n",
      "Epoch 45/100\n",
      "\u001b[1m3419/3419\u001b[0m \u001b[32m━━━━━━━━━━━━━━━━━━━━\u001b[0m\u001b[37m\u001b[0m \u001b[1m4s\u001b[0m 1ms/step - accuracy: 0.8427 - loss: 0.3273\n",
      "Epoch 46/100\n",
      "\u001b[1m3419/3419\u001b[0m \u001b[32m━━━━━━━━━━━━━━━━━━━━\u001b[0m\u001b[37m\u001b[0m \u001b[1m4s\u001b[0m 1ms/step - accuracy: 0.8455 - loss: 0.3212\n",
      "Epoch 47/100\n",
      "\u001b[1m3419/3419\u001b[0m \u001b[32m━━━━━━━━━━━━━━━━━━━━\u001b[0m\u001b[37m\u001b[0m \u001b[1m5s\u001b[0m 1ms/step - accuracy: 0.8454 - loss: 0.3250\n",
      "Epoch 48/100\n",
      "\u001b[1m3419/3419\u001b[0m \u001b[32m━━━━━━━━━━━━━━━━━━━━\u001b[0m\u001b[37m\u001b[0m \u001b[1m5s\u001b[0m 1ms/step - accuracy: 0.8452 - loss: 0.3240\n",
      "Epoch 49/100\n",
      "\u001b[1m3419/3419\u001b[0m \u001b[32m━━━━━━━━━━━━━━━━━━━━\u001b[0m\u001b[37m\u001b[0m \u001b[1m4s\u001b[0m 1ms/step - accuracy: 0.8458 - loss: 0.3222\n",
      "Epoch 50/100\n",
      "\u001b[1m3419/3419\u001b[0m \u001b[32m━━━━━━━━━━━━━━━━━━━━\u001b[0m\u001b[37m\u001b[0m \u001b[1m5s\u001b[0m 1ms/step - accuracy: 0.8429 - loss: 0.3319\n",
      "Epoch 51/100\n",
      "\u001b[1m3419/3419\u001b[0m \u001b[32m━━━━━━━━━━━━━━━━━━━━\u001b[0m\u001b[37m\u001b[0m \u001b[1m5s\u001b[0m 1ms/step - accuracy: 0.8448 - loss: 0.3221\n",
      "Epoch 52/100\n",
      "\u001b[1m3419/3419\u001b[0m \u001b[32m━━━━━━━━━━━━━━━━━━━━\u001b[0m\u001b[37m\u001b[0m \u001b[1m5s\u001b[0m 1ms/step - accuracy: 0.8397 - loss: 0.3275\n",
      "Epoch 53/100\n",
      "\u001b[1m3419/3419\u001b[0m \u001b[32m━━━━━━━━━━━━━━━━━━━━\u001b[0m\u001b[37m\u001b[0m \u001b[1m5s\u001b[0m 1ms/step - accuracy: 0.8440 - loss: 0.3261\n",
      "Epoch 54/100\n",
      "\u001b[1m3419/3419\u001b[0m \u001b[32m━━━━━━━━━━━━━━━━━━━━\u001b[0m\u001b[37m\u001b[0m \u001b[1m5s\u001b[0m 1ms/step - accuracy: 0.8439 - loss: 0.3255\n",
      "Epoch 55/100\n",
      "\u001b[1m3419/3419\u001b[0m \u001b[32m━━━━━━━━━━━━━━━━━━━━\u001b[0m\u001b[37m\u001b[0m \u001b[1m4s\u001b[0m 1ms/step - accuracy: 0.8455 - loss: 0.3265\n",
      "Epoch 56/100\n",
      "\u001b[1m3419/3419\u001b[0m \u001b[32m━━━━━━━━━━━━━━━━━━━━\u001b[0m\u001b[37m\u001b[0m \u001b[1m4s\u001b[0m 1ms/step - accuracy: 0.8472 - loss: 0.3170\n",
      "Epoch 57/100\n",
      "\u001b[1m3419/3419\u001b[0m \u001b[32m━━━━━━━━━━━━━━━━━━━━\u001b[0m\u001b[37m\u001b[0m \u001b[1m4s\u001b[0m 1ms/step - accuracy: 0.8458 - loss: 0.3231\n",
      "Epoch 58/100\n",
      "\u001b[1m3419/3419\u001b[0m \u001b[32m━━━━━━━━━━━━━━━━━━━━\u001b[0m\u001b[37m\u001b[0m \u001b[1m5s\u001b[0m 1ms/step - accuracy: 0.8474 - loss: 0.3258\n",
      "Epoch 59/100\n",
      "\u001b[1m3419/3419\u001b[0m \u001b[32m━━━━━━━━━━━━━━━━━━━━\u001b[0m\u001b[37m\u001b[0m \u001b[1m5s\u001b[0m 1ms/step - accuracy: 0.8468 - loss: 0.3199\n",
      "Epoch 60/100\n",
      "\u001b[1m3419/3419\u001b[0m \u001b[32m━━━━━━━━━━━━━━━━━━━━\u001b[0m\u001b[37m\u001b[0m \u001b[1m5s\u001b[0m 1ms/step - accuracy: 0.8437 - loss: 0.3235\n",
      "Epoch 61/100\n",
      "\u001b[1m3419/3419\u001b[0m \u001b[32m━━━━━━━━━━━━━━━━━━━━\u001b[0m\u001b[37m\u001b[0m \u001b[1m5s\u001b[0m 2ms/step - accuracy: 0.8460 - loss: 0.3217\n",
      "Epoch 62/100\n",
      "\u001b[1m3419/3419\u001b[0m \u001b[32m━━━━━━━━━━━━━━━━━━━━\u001b[0m\u001b[37m\u001b[0m \u001b[1m6s\u001b[0m 2ms/step - accuracy: 0.8455 - loss: 0.3261\n",
      "Epoch 63/100\n",
      "\u001b[1m3419/3419\u001b[0m \u001b[32m━━━━━━━━━━━━━━━━━━━━\u001b[0m\u001b[37m\u001b[0m \u001b[1m5s\u001b[0m 2ms/step - accuracy: 0.8415 - loss: 0.3297\n",
      "Epoch 64/100\n",
      "\u001b[1m3419/3419\u001b[0m \u001b[32m━━━━━━━━━━━━━━━━━━━━\u001b[0m\u001b[37m\u001b[0m \u001b[1m6s\u001b[0m 2ms/step - accuracy: 0.8491 - loss: 0.3131\n",
      "Epoch 65/100\n",
      "\u001b[1m3419/3419\u001b[0m \u001b[32m━━━━━━━━━━━━━━━━━━━━\u001b[0m\u001b[37m\u001b[0m \u001b[1m6s\u001b[0m 2ms/step - accuracy: 0.8429 - loss: 0.3264\n",
      "Epoch 66/100\n",
      "\u001b[1m3419/3419\u001b[0m \u001b[32m━━━━━━━━━━━━━━━━━━━━\u001b[0m\u001b[37m\u001b[0m \u001b[1m10s\u001b[0m 1ms/step - accuracy: 0.8458 - loss: 0.3217\n",
      "Epoch 67/100\n",
      "\u001b[1m3419/3419\u001b[0m \u001b[32m━━━━━━━━━━━━━━━━━━━━\u001b[0m\u001b[37m\u001b[0m \u001b[1m5s\u001b[0m 1ms/step - accuracy: 0.8478 - loss: 0.3204\n",
      "Epoch 68/100\n",
      "\u001b[1m3419/3419\u001b[0m \u001b[32m━━━━━━━━━━━━━━━━━━━━\u001b[0m\u001b[37m\u001b[0m \u001b[1m5s\u001b[0m 1ms/step - accuracy: 0.8453 - loss: 0.3231\n",
      "Epoch 69/100\n",
      "\u001b[1m3419/3419\u001b[0m \u001b[32m━━━━━━━━━━━━━━━━━━━━\u001b[0m\u001b[37m\u001b[0m \u001b[1m5s\u001b[0m 1ms/step - accuracy: 0.8458 - loss: 0.3168\n",
      "Epoch 70/100\n",
      "\u001b[1m3419/3419\u001b[0m \u001b[32m━━━━━━━━━━━━━━━━━━━━\u001b[0m\u001b[37m\u001b[0m \u001b[1m5s\u001b[0m 1ms/step - accuracy: 0.8437 - loss: 0.3215\n",
      "Epoch 71/100\n",
      "\u001b[1m3419/3419\u001b[0m \u001b[32m━━━━━━━━━━━━━━━━━━━━\u001b[0m\u001b[37m\u001b[0m \u001b[1m5s\u001b[0m 1ms/step - accuracy: 0.8486 - loss: 0.3199\n",
      "Epoch 72/100\n",
      "\u001b[1m3419/3419\u001b[0m \u001b[32m━━━━━━━━━━━━━━━━━━━━\u001b[0m\u001b[37m\u001b[0m \u001b[1m6s\u001b[0m 2ms/step - accuracy: 0.8445 - loss: 0.3211\n",
      "Epoch 73/100\n",
      "\u001b[1m3419/3419\u001b[0m \u001b[32m━━━━━━━━━━━━━━━━━━━━\u001b[0m\u001b[37m\u001b[0m \u001b[1m6s\u001b[0m 2ms/step - accuracy: 0.8460 - loss: 0.3178\n",
      "Epoch 74/100\n",
      "\u001b[1m3419/3419\u001b[0m \u001b[32m━━━━━━━━━━━━━━━━━━━━\u001b[0m\u001b[37m\u001b[0m \u001b[1m6s\u001b[0m 2ms/step - accuracy: 0.8460 - loss: 0.3190\n",
      "Epoch 75/100\n",
      "\u001b[1m3419/3419\u001b[0m \u001b[32m━━━━━━━━━━━━━━━━━━━━\u001b[0m\u001b[37m\u001b[0m \u001b[1m6s\u001b[0m 2ms/step - accuracy: 0.8447 - loss: 0.3261\n",
      "Epoch 76/100\n",
      "\u001b[1m3419/3419\u001b[0m \u001b[32m━━━━━━━━━━━━━━━━━━━━\u001b[0m\u001b[37m\u001b[0m \u001b[1m7s\u001b[0m 2ms/step - accuracy: 0.8489 - loss: 0.3175\n",
      "Epoch 77/100\n",
      "\u001b[1m3419/3419\u001b[0m \u001b[32m━━━━━━━━━━━━━━━━━━━━\u001b[0m\u001b[37m\u001b[0m \u001b[1m7s\u001b[0m 2ms/step - accuracy: 0.8439 - loss: 0.3221\n",
      "Epoch 78/100\n",
      "\u001b[1m3419/3419\u001b[0m \u001b[32m━━━━━━━━━━━━━━━━━━━━\u001b[0m\u001b[37m\u001b[0m \u001b[1m9s\u001b[0m 2ms/step - accuracy: 0.8440 - loss: 0.3255\n",
      "Epoch 79/100\n",
      "\u001b[1m3419/3419\u001b[0m \u001b[32m━━━━━━━━━━━━━━━━━━━━\u001b[0m\u001b[37m\u001b[0m \u001b[1m6s\u001b[0m 2ms/step - accuracy: 0.8454 - loss: 0.3204\n",
      "Epoch 80/100\n",
      "\u001b[1m3419/3419\u001b[0m \u001b[32m━━━━━━━━━━━━━━━━━━━━\u001b[0m\u001b[37m\u001b[0m \u001b[1m6s\u001b[0m 2ms/step - accuracy: 0.8469 - loss: 0.3214\n",
      "Epoch 81/100\n",
      "\u001b[1m3419/3419\u001b[0m \u001b[32m━━━━━━━━━━━━━━━━━━━━\u001b[0m\u001b[37m\u001b[0m \u001b[1m6s\u001b[0m 2ms/step - accuracy: 0.8452 - loss: 0.3180\n",
      "Epoch 82/100\n",
      "\u001b[1m3419/3419\u001b[0m \u001b[32m━━━━━━━━━━━━━━━━━━━━\u001b[0m\u001b[37m\u001b[0m \u001b[1m6s\u001b[0m 2ms/step - accuracy: 0.8425 - loss: 0.3229\n",
      "Epoch 83/100\n",
      "\u001b[1m3419/3419\u001b[0m \u001b[32m━━━━━━━━━━━━━━━━━━━━\u001b[0m\u001b[37m\u001b[0m \u001b[1m6s\u001b[0m 2ms/step - accuracy: 0.8457 - loss: 0.3175\n",
      "Epoch 84/100\n",
      "\u001b[1m3419/3419\u001b[0m \u001b[32m━━━━━━━━━━━━━━━━━━━━\u001b[0m\u001b[37m\u001b[0m \u001b[1m6s\u001b[0m 2ms/step - accuracy: 0.8499 - loss: 0.3198\n",
      "Epoch 85/100\n",
      "\u001b[1m3419/3419\u001b[0m \u001b[32m━━━━━━━━━━━━━━━━━━━━\u001b[0m\u001b[37m\u001b[0m \u001b[1m6s\u001b[0m 2ms/step - accuracy: 0.8488 - loss: 0.3178\n",
      "Epoch 86/100\n",
      "\u001b[1m3419/3419\u001b[0m \u001b[32m━━━━━━━━━━━━━━━━━━━━\u001b[0m\u001b[37m\u001b[0m \u001b[1m6s\u001b[0m 2ms/step - accuracy: 0.8457 - loss: 0.3212\n",
      "Epoch 87/100\n",
      "\u001b[1m3419/3419\u001b[0m \u001b[32m━━━━━━━━━━━━━━━━━━━━\u001b[0m\u001b[37m\u001b[0m \u001b[1m6s\u001b[0m 2ms/step - accuracy: 0.8461 - loss: 0.3231\n",
      "Epoch 88/100\n",
      "\u001b[1m3419/3419\u001b[0m \u001b[32m━━━━━━━━━━━━━━━━━━━━\u001b[0m\u001b[37m\u001b[0m \u001b[1m6s\u001b[0m 2ms/step - accuracy: 0.8512 - loss: 0.3151\n",
      "Epoch 89/100\n",
      "\u001b[1m3419/3419\u001b[0m \u001b[32m━━━━━━━━━━━━━━━━━━━━\u001b[0m\u001b[37m\u001b[0m \u001b[1m6s\u001b[0m 2ms/step - accuracy: 0.8480 - loss: 0.3173\n",
      "Epoch 90/100\n",
      "\u001b[1m3419/3419\u001b[0m \u001b[32m━━━━━━━━━━━━━━━━━━━━\u001b[0m\u001b[37m\u001b[0m \u001b[1m6s\u001b[0m 2ms/step - accuracy: 0.8459 - loss: 0.3194\n",
      "Epoch 91/100\n",
      "\u001b[1m3419/3419\u001b[0m \u001b[32m━━━━━━━━━━━━━━━━━━━━\u001b[0m\u001b[37m\u001b[0m \u001b[1m6s\u001b[0m 2ms/step - accuracy: 0.8435 - loss: 0.3222\n",
      "Epoch 92/100\n",
      "\u001b[1m3419/3419\u001b[0m \u001b[32m━━━━━━━━━━━━━━━━━━━━\u001b[0m\u001b[37m\u001b[0m \u001b[1m6s\u001b[0m 2ms/step - accuracy: 0.8450 - loss: 0.3217\n",
      "Epoch 93/100\n",
      "\u001b[1m3419/3419\u001b[0m \u001b[32m━━━━━━━━━━━━━━━━━━━━\u001b[0m\u001b[37m\u001b[0m \u001b[1m6s\u001b[0m 2ms/step - accuracy: 0.8478 - loss: 0.3210\n",
      "Epoch 94/100\n",
      "\u001b[1m3419/3419\u001b[0m \u001b[32m━━━━━━━━━━━━━━━━━━━━\u001b[0m\u001b[37m\u001b[0m \u001b[1m11s\u001b[0m 2ms/step - accuracy: 0.8476 - loss: 0.3208\n",
      "Epoch 95/100\n",
      "\u001b[1m3419/3419\u001b[0m \u001b[32m━━━━━━━━━━━━━━━━━━━━\u001b[0m\u001b[37m\u001b[0m \u001b[1m7s\u001b[0m 2ms/step - accuracy: 0.8477 - loss: 0.3191\n",
      "Epoch 96/100\n",
      "\u001b[1m3419/3419\u001b[0m \u001b[32m━━━━━━━━━━━━━━━━━━━━\u001b[0m\u001b[37m\u001b[0m \u001b[1m6s\u001b[0m 2ms/step - accuracy: 0.8465 - loss: 0.3214\n",
      "Epoch 97/100\n",
      "\u001b[1m3419/3419\u001b[0m \u001b[32m━━━━━━━━━━━━━━━━━━━━\u001b[0m\u001b[37m\u001b[0m \u001b[1m6s\u001b[0m 2ms/step - accuracy: 0.8453 - loss: 0.3178\n",
      "Epoch 98/100\n",
      "\u001b[1m3419/3419\u001b[0m \u001b[32m━━━━━━━━━━━━━━━━━━━━\u001b[0m\u001b[37m\u001b[0m \u001b[1m6s\u001b[0m 2ms/step - accuracy: 0.8464 - loss: 0.3192\n",
      "Epoch 99/100\n",
      "\u001b[1m3419/3419\u001b[0m \u001b[32m━━━━━━━━━━━━━━━━━━━━\u001b[0m\u001b[37m\u001b[0m \u001b[1m5s\u001b[0m 2ms/step - accuracy: 0.8463 - loss: 0.3207\n",
      "Epoch 100/100\n",
      "\u001b[1m3419/3419\u001b[0m \u001b[32m━━━━━━━━━━━━━━━━━━━━\u001b[0m\u001b[37m\u001b[0m \u001b[1m6s\u001b[0m 2ms/step - accuracy: 0.8487 - loss: 0.3177\n"
     ]
    }
   ],
   "source": [
    "historial = modelo.fit(X_train,y_train, epochs = 100,batch_size=10) "
   ]
  },
  {
   "cell_type": "code",
   "execution_count": 14,
   "id": "0d831c33-621b-4a5d-b128-145f58ab2cb5",
   "metadata": {},
   "outputs": [],
   "source": [
    "# Guardar el modelo usando pickle\n",
    "pkl_filename = \"pickle_model.pkl\"\n",
    "with open(pkl_filename, 'wb') as file:\n",
    "    pickle.dump(modelo, file)"
   ]
  },
  {
   "cell_type": "code",
   "execution_count": 15,
   "id": "8eb2feba-497f-427a-8361-ee668be3f532",
   "metadata": {},
   "outputs": [
    {
     "name": "stdout",
     "output_type": "stream",
     "text": [
      "\u001b[1m458/458\u001b[0m \u001b[32m━━━━━━━━━━━━━━━━━━━━\u001b[0m\u001b[37m\u001b[0m \u001b[1m1s\u001b[0m 1ms/step - accuracy: 0.8402 - loss: 0.3409\n"
     ]
    },
    {
     "data": {
      "text/plain": [
       "[0.3398786783218384, 0.8428990840911865]"
      ]
     },
     "execution_count": 15,
     "metadata": {},
     "output_type": "execute_result"
    }
   ],
   "source": [
    "modelo.evaluate(X_test,y_test)"
   ]
  },
  {
   "cell_type": "code",
   "execution_count": 16,
   "id": "f1637843-dc9d-46d4-8614-ec76c7f33aa3",
   "metadata": {},
   "outputs": [
    {
     "data": {
      "image/png": "[encoded data removed]",
      "text/plain": [
       "<Figure size 1000x600 with 1 Axes>"
      ]
     },
     "metadata": {},
     "output_type": "display_data"
    }
   ],
   "source": [
    "# Graficar la evolución de la pérdida durante el entrenamiento\n",
    "plt.figure(figsize=(10, 6))\n",
    "plt.plot(historial.history[\"loss\"], label='Pérdida de Entrenamiento')\n",
    "if 'val_loss' in historial.history:\n",
    "    plt.plot(historial.history[\"val_loss\"], label='Pérdida de Validación')\n",
    "plt.xlabel('# Épocas')\n",
    "plt.ylabel('Magnitud de Pérdida')\n",
    "plt.title('Evolución de la Pérdida Durante el Entrenamiento')\n",
    "plt.legend()\n",
    "plt.grid(True)\n",
    "plt.show()\n"
   ]
  },
  {
   "cell_type": "code",
   "execution_count": 17,
   "id": "3343dd0e-107c-4e1d-ad1f-55e67ad97b8f",
   "metadata": {},
   "outputs": [
    {
     "name": "stdout",
     "output_type": "stream",
     "text": [
      "\u001b[1m458/458\u001b[0m \u001b[32m━━━━━━━━━━━━━━━━━━━━\u001b[0m\u001b[37m\u001b[0m \u001b[1m1s\u001b[0m 1ms/step\n"
     ]
    }
   ],
   "source": [
    "y_prob = modelo.predict(X_test)\n"
   ]
  },
  {
   "cell_type": "code",
   "execution_count": 18,
   "id": "39fcf6c3-89bc-4eec-b5ec-2b83bbc6267f",
   "metadata": {},
   "outputs": [],
   "source": [
    "y_pred = np.argmax(y_prob, axis=1)"
   ]
  },
  {
   "cell_type": "code",
   "execution_count": 19,
   "id": "6486e3af-4145-44ee-9c2d-141eb05e3e4b",
   "metadata": {},
   "outputs": [],
   "source": [
    "y_pred_df = pd.DataFrame(y_pred, columns=['Estimacion'])"
   ]
  },
  {
   "cell_type": "code",
   "execution_count": 20,
   "id": "a2b66130-5ff1-45ed-9592-5e855562fe71",
   "metadata": {},
   "outputs": [
    {
     "name": "stdout",
     "output_type": "stream",
     "text": [
      "          0         1         2    3    4         5    6    7    8    9  \\\n",
      "0  0.013699  0.277880  0.533333  1.0  0.2  0.538462  1.0  1.0  0.0  0.0   \n",
      "1  0.000000  0.112757  0.466667  1.0  0.6  0.846154  1.0  0.0  0.0  0.0   \n",
      "2  0.109589  0.227791  0.533333  1.0  0.4  0.384615  0.5  1.0  0.0  0.0   \n",
      "3  0.041096  0.139319  0.600000  1.0  0.6  0.846154  1.0  0.0  0.0  0.0   \n",
      "4  0.410959  0.156781  0.533333  1.0  0.8  0.461538  0.0  1.0  0.0  0.0   \n",
      "\n",
      "         10   11        12  salario  Estimacion  \n",
      "0  0.193878  1.0  0.333333      1.0         0.0  \n",
      "1  0.193878  1.0  0.333333      1.0         0.0  \n",
      "2  0.397959  1.0  0.000000      NaN         0.0  \n",
      "3  0.295918  1.0  0.333333      NaN         0.0  \n",
      "4  0.561224  0.0  0.333333      1.0         0.0  \n"
     ]
    }
   ],
   "source": [
    "estimar = pd.concat([pd.DataFrame(X_test), pd.DataFrame(y_test), y_pred_df], axis=1)\n",
    "print(estimar.head())"
   ]
  },
  {
   "cell_type": "code",
   "execution_count": 21,
   "id": "d33e6cf3-609e-48ea-9198-ecbbfe88ff3a",
   "metadata": {
    "scrolled": true
   },
   "outputs": [
    {
     "data": {
      "image/png": "[encoded data removed]",
      "text/plain": [
       "<Figure size 640x480 with 2 Axes>"
      ]
     },
     "metadata": {},
     "output_type": "display_data"
    }
   ],
   "source": [
    "# Crear la matriz de confusión\n",
    "cm = confusion_matrix(y_test, y_pred)\n",
    "\n",
    "# Mostrar la matriz de confusión\n",
    "disp = ConfusionMatrixDisplay(confusion_matrix=cm, display_labels=[0, 1])\n",
    "disp.plot()\n",
    "plt.show()"
   ]
  },
  {
   "cell_type": "code",
   "execution_count": 22,
   "id": "1cfe1803-c18a-430a-a756-e07dd2a41ed9",
   "metadata": {},
   "outputs": [
    {
     "name": "stdout",
     "output_type": "stream",
     "text": [
      "El modelo espera una entrada con forma: (None, 13)\n"
     ]
    }
   ],
   "source": [
    "#Grabamos\n",
    "input_shape = modelo.input_shape\n",
    "print(f\"El modelo espera una entrada con forma: {input_shape}\")\n",
    "\n",
    "\n"
   ]
  },
  {
   "cell_type": "code",
   "execution_count": 23,
   "id": "542f0cc1-1cb0-4f11-806e-b3e3c2cee38f",
   "metadata": {},
   "outputs": [
    {
     "name": "stdout",
     "output_type": "stream",
     "text": [
      "\u001b[1m1/1\u001b[0m \u001b[32m━━━━━━━━━━━━━━━━━━━━\u001b[0m\u001b[37m\u001b[0m \u001b[1m0s\u001b[0m 86ms/step\n",
      "[0.]\n"
     ]
    }
   ],
   "source": [
    "x_in = np.array([38, 3, 215646, 3, 9, 1, 4, 1, 4, 1, 0, 0, 40])\n",
    "x_in = x_in.reshape(1, -1)  # Asegurarse de que x_in tenga la forma (1, 13) en lugar de (13,)\n",
    "predicts = modelo.predict(x_in)\n",
    "print(predicts[0])\n"
   ]
  },
  {
   "cell_type": "code",
   "execution_count": 24,
   "id": "e66f052d-568a-4efa-9f06-ae67d656514b",
   "metadata": {},
   "outputs": [
    {
     "name": "stderr",
     "output_type": "stream",
     "text": [
      "WARNING:absl:Compiled the loaded model, but the compiled metrics have yet to be built. `model.compile_metrics` will be empty until you train or evaluate the model.\n"
     ]
    },
    {
     "data": {
      "text/html": [
       "<pre style=\"white-space:pre;overflow-x:auto;line-height:normal;font-family:Menlo,'DejaVu Sans Mono',consolas,'Courier New',monospace\"><span style=\"font-weight: bold\">Model: \"sequential\"</span>\n",
       "</pre>\n"
      ],
      "text/plain": [
       "\u001b[1mModel: \"sequential\"\u001b[0m\n"
      ]
     },
     "metadata": {},
     "output_type": "display_data"
    },
    {
     "data": {
      "text/html": [
       "<pre style=\"white-space:pre;overflow-x:auto;line-height:normal;font-family:Menlo,'DejaVu Sans Mono',consolas,'Courier New',monospace\">┏━━━━━━━━━━━━━━━━━━━━━━━━━━━━━━━━━━━━━━┳━━━━━━━━━━━━━━━━━━━━━━━━━━━━━┳━━━━━━━━━━━━━━━━━┓\n",
       "┃<span style=\"font-weight: bold\"> Layer (type)                         </span>┃<span style=\"font-weight: bold\"> Output Shape                </span>┃<span style=\"font-weight: bold\">         Param # </span>┃\n",
       "┡━━━━━━━━━━━━━━━━━━━━━━━━━━━━━━━━━━━━━━╇━━━━━━━━━━━━━━━━━━━━━━━━━━━━━╇━━━━━━━━━━━━━━━━━┩\n",
       "│ dense (<span style=\"color: #0087ff; text-decoration-color: #0087ff\">Dense</span>)                        │ (<span style=\"color: #00d7ff; text-decoration-color: #00d7ff\">None</span>, <span style=\"color: #00af00; text-decoration-color: #00af00\">32</span>)                  │             <span style=\"color: #00af00; text-decoration-color: #00af00\">448</span> │\n",
       "├──────────────────────────────────────┼─────────────────────────────┼─────────────────┤\n",
       "│ dense_1 (<span style=\"color: #0087ff; text-decoration-color: #0087ff\">Dense</span>)                      │ (<span style=\"color: #00d7ff; text-decoration-color: #00d7ff\">None</span>, <span style=\"color: #00af00; text-decoration-color: #00af00\">16</span>)                  │             <span style=\"color: #00af00; text-decoration-color: #00af00\">528</span> │\n",
       "├──────────────────────────────────────┼─────────────────────────────┼─────────────────┤\n",
       "│ dense_2 (<span style=\"color: #0087ff; text-decoration-color: #0087ff\">Dense</span>)                      │ (<span style=\"color: #00d7ff; text-decoration-color: #00d7ff\">None</span>, <span style=\"color: #00af00; text-decoration-color: #00af00\">3</span>)                   │              <span style=\"color: #00af00; text-decoration-color: #00af00\">51</span> │\n",
       "└──────────────────────────────────────┴─────────────────────────────┴─────────────────┘\n",
       "</pre>\n"
      ],
      "text/plain": [
       "┏━━━━━━━━━━━━━━━━━━━━━━━━━━━━━━━━━━━━━━┳━━━━━━━━━━━━━━━━━━━━━━━━━━━━━┳━━━━━━━━━━━━━━━━━┓\n",
       "┃\u001b[1m \u001b[0m\u001b[1mLayer (type)                        \u001b[0m\u001b[1m \u001b[0m┃\u001b[1m \u001b[0m\u001b[1mOutput Shape               \u001b[0m\u001b[1m \u001b[0m┃\u001b[1m \u001b[0m\u001b[1m        Param #\u001b[0m\u001b[1m \u001b[0m┃\n",
       "┡━━━━━━━━━━━━━━━━━━━━━━━━━━━━━━━━━━━━━━╇━━━━━━━━━━━━━━━━━━━━━━━━━━━━━╇━━━━━━━━━━━━━━━━━┩\n",
       "│ dense (\u001b[38;5;33mDense\u001b[0m)                        │ (\u001b[38;5;45mNone\u001b[0m, \u001b[38;5;34m32\u001b[0m)                  │             \u001b[38;5;34m448\u001b[0m │\n",
       "├──────────────────────────────────────┼─────────────────────────────┼─────────────────┤\n",
       "│ dense_1 (\u001b[38;5;33mDense\u001b[0m)                      │ (\u001b[38;5;45mNone\u001b[0m, \u001b[38;5;34m16\u001b[0m)                  │             \u001b[38;5;34m528\u001b[0m │\n",
       "├──────────────────────────────────────┼─────────────────────────────┼─────────────────┤\n",
       "│ dense_2 (\u001b[38;5;33mDense\u001b[0m)                      │ (\u001b[38;5;45mNone\u001b[0m, \u001b[38;5;34m3\u001b[0m)                   │              \u001b[38;5;34m51\u001b[0m │\n",
       "└──────────────────────────────────────┴─────────────────────────────┴─────────────────┘\n"
      ]
     },
     "metadata": {},
     "output_type": "display_data"
    },
    {
     "data": {
      "text/html": [
       "<pre style=\"white-space:pre;overflow-x:auto;line-height:normal;font-family:Menlo,'DejaVu Sans Mono',consolas,'Courier New',monospace\"><span style=\"font-weight: bold\"> Total params: </span><span style=\"color: #00af00; text-decoration-color: #00af00\">1,029</span> (4.02 KB)\n",
       "</pre>\n"
      ],
      "text/plain": [
       "\u001b[1m Total params: \u001b[0m\u001b[38;5;34m1,029\u001b[0m (4.02 KB)\n"
      ]
     },
     "metadata": {},
     "output_type": "display_data"
    },
    {
     "data": {
      "text/html": [
       "<pre style=\"white-space:pre;overflow-x:auto;line-height:normal;font-family:Menlo,'DejaVu Sans Mono',consolas,'Courier New',monospace\"><span style=\"font-weight: bold\"> Trainable params: </span><span style=\"color: #00af00; text-decoration-color: #00af00\">1,027</span> (4.01 KB)\n",
       "</pre>\n"
      ],
      "text/plain": [
       "\u001b[1m Trainable params: \u001b[0m\u001b[38;5;34m1,027\u001b[0m (4.01 KB)\n"
      ]
     },
     "metadata": {},
     "output_type": "display_data"
    },
    {
     "data": {
      "text/html": [
       "<pre style=\"white-space:pre;overflow-x:auto;line-height:normal;font-family:Menlo,'DejaVu Sans Mono',consolas,'Courier New',monospace\"><span style=\"font-weight: bold\"> Non-trainable params: </span><span style=\"color: #00af00; text-decoration-color: #00af00\">0</span> (0.00 B)\n",
       "</pre>\n"
      ],
      "text/plain": [
       "\u001b[1m Non-trainable params: \u001b[0m\u001b[38;5;34m0\u001b[0m (0.00 B)\n"
      ]
     },
     "metadata": {},
     "output_type": "display_data"
    },
    {
     "data": {
      "text/html": [
       "<pre style=\"white-space:pre;overflow-x:auto;line-height:normal;font-family:Menlo,'DejaVu Sans Mono',consolas,'Courier New',monospace\"><span style=\"font-weight: bold\"> Optimizer params: </span><span style=\"color: #00af00; text-decoration-color: #00af00\">2</span> (12.00 B)\n",
       "</pre>\n"
      ],
      "text/plain": [
       "\u001b[1m Optimizer params: \u001b[0m\u001b[38;5;34m2\u001b[0m (12.00 B)\n"
      ]
     },
     "metadata": {},
     "output_type": "display_data"
    },
    {
     "name": "stdout",
     "output_type": "stream",
     "text": [
      "El modelo espera una entrada con forma: (None, 13)\n"
     ]
    }
   ],
   "source": [
    "from tensorflow.keras.models import load_model\n",
    "\n",
    "# Cargar el modelo guardado\n",
    "model_path = \"modelo_keras.h5\"\n",
    "model = load_model(model_path)\n",
    "\n",
    "# Verificar la estructura del modelo y la forma de entrada esperada\n",
    "model.summary()\n",
    "input_shape = model.input_shape\n",
    "print(f\"El modelo espera una entrada con forma: {input_shape}\")\n"
   ]
  },
  {
   "cell_type": "code",
   "execution_count": 25,
   "id": "e5128622-1ce0-4de8-a0cd-6c33a869f163",
   "metadata": {},
   "outputs": [
    {
     "data": {
      "text/plain": [
       "['SVModel.pkl']"
      ]
     },
     "execution_count": 25,
     "metadata": {},
     "output_type": "execute_result"
    }
   ],
   "source": [
    "import joblib\n",
    "joblib.dump(modelo, 'SVModel.pkl') "
   ]
  },
  {
   "cell_type": "code",
   "execution_count": null,
   "id": "1d752d17-0537-4bef-9729-ea119c64fa1c",
   "metadata": {},
   "outputs": [],
   "source": []
  }
 ],
 "metadata": {
  "kernelspec": {
   "display_name": "Python 3 (ipykernel)",
   "language": "python",
   "name": "python3"
  },
  "language_info": {
   "codemirror_mode": {
    "name": "ipython",
    "version": 3
   },
   "file_extension": ".py",
   "mimetype": "text/x-python",
   "name": "python",
   "nbconvert_exporter": "python",
   "pygments_lexer": "ipython3",
   "version": "3.11.7"
  }
 },
 "nbformat": 4,
 "nbformat_minor": 5
}
